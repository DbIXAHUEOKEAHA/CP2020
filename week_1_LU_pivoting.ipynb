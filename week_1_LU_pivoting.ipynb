{
 "cells": [
  {
   "cell_type": "markdown",
   "metadata": {},
   "source": [
<<<<<<< HEAD
    "# I. $LU$ - разложение квадратной матрицы"
=======
    "# I. $LU$ разложение квадратной матрицы"
>>>>>>> d188d8012e1fe3d095c89cf2be0e775e92896e1b
   ]
  },
  {
   "cell_type": "markdown",
   "metadata": {},
   "source": [
<<<<<<< HEAD
    "Рассмотрим наивную реализацию LU - разложения.  \n",
    "\n",
    "Заметим, что мы используем массивы `numpy` для представления матриц. [Не используйте 'np.matrix']."
=======
    "Рассмотрим наивную реализацию LU разложения.  \n",
    "\n",
    "Заметим, что мы используем массивы 'numpy' для представления матриц. [Не используйте 'np.matrix']."
>>>>>>> d188d8012e1fe3d095c89cf2be0e775e92896e1b
   ]
  },
  {
   "cell_type": "code",
   "execution_count": 1,
   "metadata": {
    "collapsed": true
   },
   "outputs": [],
   "source": [
    "import numpy as np\n",
    "\n",
    "def diy_lu(a):\n",
<<<<<<< HEAD
    "    \"\"\"Создает LU - разложение матрицы `a`.\n",
    "    \n",
    "    Наивное LU - разложение: работает столбец за столбцом, накапливает элементарные треугольные матрицы.\n",
    "    Без выбора главного элемента.\n",
=======
    "    \"\"\"Создает LU разложение матрицы a.\n",
    "    \n",
    "    Наивное LU разложение: работает столбец за столбцом, накапливает элементарные треугольные матрицы.\n",
    "    Без поворотов.\n",
>>>>>>> d188d8012e1fe3d095c89cf2be0e775e92896e1b
    "    \"\"\"\n",
    "    N = a.shape[0]\n",
    "    \n",
    "    u = a.copy()\n",
    "    L = np.eye(N)\n",
    "    for j in range(N-1):\n",
    "        lam = np.eye(N)\n",
    "        gamma = u[j+1:, j] / u[j, j]\n",
    "        lam[j+1:, j] = -gamma\n",
    "        u = lam @ u\n",
    "\n",
    "        lam[j+1:, j] = gamma\n",
    "        L = L @ lam\n",
    "    return L, u"
   ]
  },
  {
   "cell_type": "code",
   "execution_count": 2,
   "metadata": {},
   "outputs": [
    {
     "data": {
      "text/plain": [
       "6"
      ]
     },
     "execution_count": 2,
     "metadata": {},
     "output_type": "execute_result"
    }
   ],
   "source": [
    "# Теперь сгенерируем матрицу полного ранга и протестируем наивное разложение.\n",
    "import numpy as np\n",
    "\n",
    "N = 6\n",
    "a = np.zeros((N, N), dtype=float)\n",
    "for i in range(N):\n",
    "    for j in range(N):\n",
    "        a[i, j] = 3. / (0.6*i*j + 1)\n",
    "\n",
    "np.linalg.matrix_rank(a)"
   ]
  },
  {
   "cell_type": "code",
   "execution_count": 3,
   "metadata": {
    "collapsed": true
   },
   "outputs": [],
   "source": [
    "# Настройка вывода чисел с плавающей точкой для большей ясности\n",
    "np.set_printoptions(precision=3)"
   ]
  },
  {
   "cell_type": "code",
   "execution_count": 4,
   "metadata": {},
   "outputs": [
    {
     "name": "stdout",
     "output_type": "stream",
     "text": [
      "[[ 1.     0.     0.     0.     0.     0.   ]\n",
      " [ 1.     1.     0.     0.     0.     0.   ]\n",
      " [ 1.     1.455  1.     0.     0.     0.   ]\n",
      " [ 1.     1.714  1.742  1.     0.     0.   ]\n",
      " [ 1.     1.882  2.276  2.039  1.     0.   ]\n",
      " [ 1.     2.     2.671  2.944  2.354  1.   ]] \n",
      "\n",
      "[[  3.000e+00   3.000e+00   3.000e+00   3.000e+00   3.000e+00   3.000e+00]\n",
      " [  0.000e+00  -1.125e+00  -1.636e+00  -1.929e+00  -2.118e+00  -2.250e+00]\n",
      " [  0.000e+00   0.000e+00   2.625e-01   4.574e-01   5.975e-01   7.013e-01]\n",
      " [  0.000e+00   2.220e-16   0.000e+00  -2.197e-02  -4.480e-02  -6.469e-02]\n",
      " [  0.000e+00  -4.528e-16   0.000e+00   6.939e-18   8.080e-04   1.902e-03]\n",
      " [  0.000e+00   4.123e-16   0.000e+00  -1.634e-17   0.000e+00  -1.585e-05]] \n",
      "\n",
      "[[  0.000e+00   0.000e+00   0.000e+00   0.000e+00   0.000e+00   0.000e+00]\n",
      " [  0.000e+00   0.000e+00   0.000e+00   0.000e+00   0.000e+00   0.000e+00]\n",
      " [  0.000e+00   0.000e+00   0.000e+00   2.220e-16  -1.110e-16  -1.665e-16]\n",
      " [  0.000e+00   0.000e+00   2.220e-16  -5.551e-17  -1.665e-16  -1.665e-16]\n",
      " [  0.000e+00   0.000e+00  -1.110e-16  -1.665e-16   1.665e-16   5.551e-17]\n",
      " [  0.000e+00   0.000e+00  -1.665e-16  -1.665e-16   5.551e-17   0.000e+00]]\n"
     ]
    }
   ],
   "source": [
    "L, u = diy_lu(a)\n",
    "\n",
    "print(L, \"\\n\")\n",
    "print(u, \"\\n\")\n",
    "\n",
<<<<<<< HEAD
    "# Быстрый тест на адекватность: L @ U должна быть равна изначальной матрице с точностью до ошибок округления.\n",
=======
    "# Быстрый тест на адекватность: L @ U должна быть равна изначальной матрице с точностью до ошибок, связанных с плавающей точкой.\n",
>>>>>>> d188d8012e1fe3d095c89cf2be0e775e92896e1b
    "print(L@u - a)"
   ]
  },
  {
   "cell_type": "markdown",
   "metadata": {},
   "source": [
<<<<<<< HEAD
    "# II. Необходимость выбора главного элемента"
=======
    "# II. Необходимость поворота"
>>>>>>> d188d8012e1fe3d095c89cf2be0e775e92896e1b
   ]
  },
  {
   "cell_type": "markdown",
   "metadata": {},
   "source": [
    "Давайте немного подправим матрицу, изменив в ней один элемент:"
   ]
  },
  {
   "cell_type": "code",
   "execution_count": 6,
   "metadata": {
    "collapsed": true
   },
   "outputs": [],
   "source": [
    "a1 = a.copy()\n",
    "a1[1, 1] = 3"
   ]
  },
  {
   "cell_type": "markdown",
   "metadata": {},
   "source": [
<<<<<<< HEAD
    "Результирующая матрица имеет полный ранг, но наивное LU - разложение не работает."
=======
    "Результирующая матрица имеет полный ранг, но наивное LU разложение не работает."
>>>>>>> d188d8012e1fe3d095c89cf2be0e775e92896e1b
   ]
  },
  {
   "cell_type": "code",
   "execution_count": 7,
   "metadata": {},
   "outputs": [
    {
     "data": {
      "text/plain": [
       "6"
      ]
     },
     "execution_count": 7,
     "metadata": {},
     "output_type": "execute_result"
    }
   ],
   "source": [
    "np.linalg.matrix_rank(a1)"
   ]
  },
  {
   "cell_type": "code",
   "execution_count": 8,
   "metadata": {},
   "outputs": [
    {
     "name": "stdout",
     "output_type": "stream",
     "text": [
      "[[ nan  nan  nan  nan  nan  nan]\n",
      " [ nan  nan  nan  nan  nan  nan]\n",
      " [ nan  nan  nan  nan  nan  nan]\n",
      " [ nan  nan  nan  nan  nan  nan]\n",
      " [ nan  nan  nan  nan  nan  nan]\n",
      " [ nan  nan  nan  nan  nan  nan]] [[ nan  nan  nan  nan  nan  nan]\n",
      " [ nan  nan  nan  nan  nan  nan]\n",
      " [ nan  nan  nan  nan  nan  nan]\n",
      " [ nan  nan  nan  nan  nan  nan]\n",
      " [ nan  nan  nan  nan  nan  nan]\n",
      " [ nan  nan  nan  nan  nan  nan]]\n"
     ]
    }
   ],
   "source": [
    "l, u = diy_lu(a1)\n",
    "\n",
    "print(l, u)"
   ]
  },
  {
   "cell_type": "markdown",
   "metadata": {},
   "source": [
    "### Тест II.1\n",
    "\n",
<<<<<<< HEAD
    "Для того, чтобы наивное LU - разложение работало необходимо чтобы все лидирующие миноры матрицы были отличны от нуля. Проверьте, выполнено ли это требование для двух матриц `a` и `a1`.\n",
=======
    "Для того, чтобы наивное LU разложение работало необходимо чтобы все лидирующие миноры матрицы были не нулевыми. Проверьте, выполнено ли это требование для двух матриц `a` и `a1`.\n",
>>>>>>> d188d8012e1fe3d095c89cf2be0e775e92896e1b
    "\n",
    "(20% оценки)"
   ]
  },
  {
   "cell_type": "code",
   "execution_count": null,
   "metadata": {
    "collapsed": true
   },
   "outputs": [],
   "source": [
    "# ... ENTER YOUR CODE HERE ..."
   ]
  },
  {
   "cell_type": "markdown",
   "metadata": {},
   "source": [
    "### Тест II.2\n",
    "\n",
<<<<<<< HEAD
    "Модифицируйте алгоритм `diy_lu`, чтобы осуществлять выбор главного элемента в столбцах. Для контроля выбора можете использовать матрицу перестановок или массив замен.\n",
=======
    "Модифицируйте алгоритм `diy_lu`, чтобы осуществлять поворот столбцов. Для контроля поворотов можете на выбор использовать матрицу перестановок или массив замен.\n",
>>>>>>> d188d8012e1fe3d095c89cf2be0e775e92896e1b
    "\n",
    "(40% оценки)\n",
    "\n",
    "Напишите функию, воссоздающую изначальную матрицу из разложения. Протестируйте свой алгоритм на матрицах `a` и `a1`.\n",
    "\n",
    "(40% оценки)"
   ]
  },
  {
   "cell_type": "code",
   "execution_count": null,
   "metadata": {
    "collapsed": true
   },
   "outputs": [],
   "source": [
    "# ... ENTER YOUR CODE HERE ..."
   ]
  }
 ],
 "metadata": {
  "kernelspec": {
   "display_name": "Python 3",
   "language": "python",
   "name": "python3"
  },
  "language_info": {
   "codemirror_mode": {
    "name": "ipython",
    "version": 3
   },
   "file_extension": ".py",
   "mimetype": "text/x-python",
   "name": "python",
   "nbconvert_exporter": "python",
   "pygments_lexer": "ipython3",
   "version": "3.7.1"
  }
 },
 "nbformat": 4,
 "nbformat_minor": 2
}
