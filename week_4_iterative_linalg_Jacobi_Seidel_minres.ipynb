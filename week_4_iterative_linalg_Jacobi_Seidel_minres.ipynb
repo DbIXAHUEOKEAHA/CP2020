{
 "cells": [
  {
   "cell_type": "markdown",
   "metadata": {},
   "source": [
    "# Метод простой итерации для системы линейных уравнений"
   ]
  },
  {
   "cell_type": "markdown",
   "metadata": {},
   "source": [
<<<<<<< HEAD
    "Для начала создадим случайную матрицу с диагональным доминированием."
=======
    "Для начала создадим рандомную диагонально-доминирующую матрицу."
>>>>>>> d188d8012e1fe3d095c89cf2be0e775e92896e1b
   ]
  },
  {
   "cell_type": "code",
   "execution_count": 1,
   "metadata": {
    "collapsed": true
   },
   "outputs": [],
   "source": [
    "import numpy as np\n",
    "rndm = np.random.RandomState(1234)\n",
    "\n",
    "n = 10\n",
    "A = rndm.uniform(size=(n, n)) + np.diagflat([15]*n)\n",
    "b = rndm.uniform(size=n)"
   ]
  },
  {
   "cell_type": "markdown",
   "metadata": {},
   "source": [
    "# I.  Итерации Якоби\n",
    "\n",
    "Задано\n",
    "\n",
    "$$\n",
    "A x = b\n",
    "$$\n",
    "\n",
    "Отделим диагональную часть $D$,\n",
    "\n",
    "$$ A = D + (A - D) $$\n",
    "\n",
    "и напишем\n",
    "\n",
    "$$\n",
    "x = D^{-1} (D - A) x + D^{-1} b\\;.\n",
    "$$\n",
    "\n",
    "далее зациклим\n",
    "\n",
    "$$\n",
    "x_{n + 1} = B x_{n} + c\\;,\n",
    "$$\n",
    "\n",
    "где\n",
    "\n",
    "$$\n",
    "B = D^{-1} (A - D) \\qquad \\text{и} \\qquad c = D^{-1} b\n",
    "$$\n"
   ]
  },
  {
   "cell_type": "markdown",
   "metadata": {},
   "source": [
<<<<<<< HEAD
    "Создадим матрицу и правую часть уравнения для итераций Якоби"
=======
    "Создадим матрицу и правую часть уравнения для итерций Якоби"
>>>>>>> d188d8012e1fe3d095c89cf2be0e775e92896e1b
   ]
  },
  {
   "cell_type": "code",
   "execution_count": 2,
   "metadata": {},
   "outputs": [],
   "source": [
    "diag_1d = np.diag(A)\n",
    "\n",
    "B = -A.copy()\n",
    "np.fill_diagonal(B, 0)\n",
    "\n",
    "D = np.diag(diag_1d)\n",
    "invD = np.diag(1./diag_1d)\n",
    "BB = invD @ B \n",
    "c = invD @ b"
   ]
  },
  {
   "cell_type": "code",
   "execution_count": 3,
   "metadata": {},
   "outputs": [],
   "source": [
    "# проверка на адекватность\n",
    "from numpy.testing import assert_allclose\n",
    "\n",
    "assert_allclose(-B + D, A)\n",
    "\n",
    "\n",
<<<<<<< HEAD
    "# xx есть точное решение, вычислим его, используя прямой метод\n",
=======
    "# xx есть точное решение, вычислите его, используя прямой метод\n",
>>>>>>> d188d8012e1fe3d095c89cf2be0e775e92896e1b
    "xx = np.linalg.solve(A, b)\n",
    "\n",
    "np.testing.assert_allclose(A@xx, b)\n",
    "np.testing.assert_allclose(D@xx, B@xx + b)\n",
    "np.testing.assert_allclose(xx, BB@xx + c)"
   ]
  },
  {
   "cell_type": "markdown",
   "metadata": {},
   "source": [
<<<<<<< HEAD
    "Проверьте, что $\\| B\\| \\leqslant 1$:"
=======
    "Проверьте, чтобы $\\| B\\| \\leqslant 1$:"
>>>>>>> d188d8012e1fe3d095c89cf2be0e775e92896e1b
   ]
  },
  {
   "cell_type": "code",
   "execution_count": 4,
   "metadata": {},
   "outputs": [
    {
     "data": {
      "text/plain": [
       "0.36436161983015336"
      ]
     },
     "execution_count": 4,
     "metadata": {},
     "output_type": "execute_result"
    }
   ],
   "source": [
    "np.linalg.norm(BB)"
   ]
  },
  {
   "cell_type": "markdown",
   "metadata": {},
   "source": [
    "### Выполните итерации Якоби"
   ]
  },
  {
   "cell_type": "code",
   "execution_count": 5,
   "metadata": {
    "collapsed": true
   },
   "outputs": [],
   "source": [
    "n_iter = 50\n",
    "\n",
    "x0 = np.ones(n)\n",
    "x = x0\n",
    "for _ in range(n_iter):\n",
    "    x = BB @ x + c"
   ]
  },
  {
   "cell_type": "code",
   "execution_count": 6,
   "metadata": {},
   "outputs": [
    {
     "data": {
      "text/plain": [
       "array([  1.11022302e-16,   1.11022302e-16,  -1.11022302e-16,\n",
       "         0.00000000e+00,   0.00000000e+00,   0.00000000e+00,\n",
       "        -1.38777878e-17,   0.00000000e+00,   2.77555756e-17,\n",
       "         1.11022302e-16])"
      ]
     },
     "execution_count": 6,
     "metadata": {},
     "output_type": "execute_result"
    }
   ],
   "source": [
    "# Проверка результата:\n",
    "\n",
    "A @ x - b"
   ]
  },
  {
   "cell_type": "markdown",
   "metadata": {},
   "source": [
    "### Task I.1\n",
    "\n",
<<<<<<< HEAD
    "Используя отдельные элементы выше, составьте единую функцию, реализующую итерацию Якоби. Такая функция должна получать матрицу $A$, вектор $b$ и количество итераций для цикла. \n",
    "\n",
    "Матрица $A$ в иллюстрации выше диагонально доминирующая по построению.\n",
    "Что произойдет, если уменьшить значения диагональных элементов $A$? Проверьте сходимость итерации Якоби, а также значение нормы $B$.\n",
=======
    "Соберите доказательство концепции выше в единую функцию, реализующую итерацию Якоби. Такая функция должна получать матрицу $A$, вектор $b$ и количество итераций для цикла. \n",
    "\n",
    "Матрица $A$ в иллюстрации выше диагонально доминирующая по построению.\n",
    "Что произойдет, если сделать диагональные элементы $A$ меньше? Проверьте сходимость итерации Якоби, а также значение нормы $B$.\n",
>>>>>>> d188d8012e1fe3d095c89cf2be0e775e92896e1b
    "\n",
    "(20% итоговой оценки)\n"
   ]
  },
  {
   "cell_type": "code",
   "execution_count": null,
   "metadata": {
    "collapsed": true
   },
   "outputs": [],
   "source": [
    "# ... ENTER YOUR CODE HERE ..."
   ]
  },
  {
   "cell_type": "markdown",
   "metadata": {},
   "source": [
    "# II. Метод итераций Зейделя."
   ]
  },
  {
   "cell_type": "markdown",
   "metadata": {},
   "source": [
    "##### Задание II.1\n",
    "\n",
    "Напишите алгоритм, использующий итерации Зейделя. \n",
    "\n",
<<<<<<< HEAD
    "Проверьте на случайной матрице. Проверьте сходимость.\n",
=======
    "Проверьте на рандомной матрице. Проверьте сходимость.\n",
>>>>>>> d188d8012e1fe3d095c89cf2be0e775e92896e1b
    "\n",
    "(30% итоговой оценки)"
   ]
  },
  {
   "cell_type": "code",
   "execution_count": null,
   "metadata": {
    "collapsed": true
   },
   "outputs": [],
   "source": [
    "# ... ENTER YOUR CODE HERE ..."
   ]
  },
  {
   "cell_type": "markdown",
   "metadata": {},
   "source": [
<<<<<<< HEAD
    "# III. Схема минимальных невязок."
=======
    "# III. Схема минимальных остатков."
>>>>>>> d188d8012e1fe3d095c89cf2be0e775e92896e1b
   ]
  },
  {
   "cell_type": "markdown",
   "metadata": {},
   "source": [
    "### Задание III.1\n",
    "\n",
<<<<<<< HEAD
    "Реализуйте \"метод минимальных невязок\": явный нестационарный метод, который на каждом шаге выбирает параметр итерации $\\tau_n$, чтобы минимизировать невязку $\\mathbf{r}_{n+1}$ с заданным $\\mathbf{r}_n$. Протестируйте алгоритм на случайной матрице, проверьте сходимость к решению в терминах нормы невязки и отклонения от точного решения (который вы можете получить прямым методом). Изучите, как параметр $\\tau_n$ влияет на итерационный процесс.\n",
=======
    "Осуществите \"$\\textit{minimum residual}$ scheme\": явный нестационарный метод, который на каждом шаге выбирает параметр итерации $\\tau_n$, чтобы минимизировать остаток $\\mathbf{r}_{n+1}$ с заданным $\\mathbf{r}_n$. Протестируйте алгоритм на рандомной матрице, проверьте сходимость к решению в терминах нормы остатка и отклонения от точного решения (который вы можете получить прямым методом). Изучите, как параметр $\\tau_n$ влияет на итерационный процесс.\n",
>>>>>>> d188d8012e1fe3d095c89cf2be0e775e92896e1b
    "\n",
    "(50% итоговой оценки)"
   ]
  },
  {
   "cell_type": "code",
   "execution_count": null,
   "metadata": {
    "collapsed": true
   },
   "outputs": [],
   "source": [
    "# ... ENTER YOUR CODE HERE ..."
   ]
  }
 ],
 "metadata": {
  "kernelspec": {
   "display_name": "Python 3",
   "language": "python",
   "name": "python3"
  },
  "language_info": {
   "codemirror_mode": {
    "name": "ipython",
    "version": 3
   },
   "file_extension": ".py",
   "mimetype": "text/x-python",
   "name": "python",
   "nbconvert_exporter": "python",
   "pygments_lexer": "ipython3",
   "version": "3.7.1"
  }
 },
 "nbformat": 4,
 "nbformat_minor": 2
}
