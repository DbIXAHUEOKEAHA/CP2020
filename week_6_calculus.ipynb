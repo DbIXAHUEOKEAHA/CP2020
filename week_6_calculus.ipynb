{
 "cells": [
  {
   "cell_type": "markdown",
   "metadata": {},
   "source": [
    "# Часть I. One-sided finite difference."
   ]
  },
  {
   "cell_type": "markdown",
   "metadata": {},
   "source": [
    "Напишите функцию `deriv`, которая вычисляет производную аргумента в заданной точке $x$, используя \"one-sided finite difference rule\" с заданным шагом $h$ и степенью аппроксимации $O(h^2)$."
   ]
  },
  {
   "cell_type": "code",
   "execution_count": null,
   "metadata": {
    "collapsed": true
   },
   "outputs": [],
   "source": [
    "def deriv(f, x, h):\n",
    "    \"\"\" Вычисляет производную `f` в точке `x` с шагом `h`.\n",
    "    \n",
    "    Параметры\n",
    "    ----------\n",
    "    f : callable\n",
    "        Функция, которую нужно продифференцировать\n",
    "    x : float\n",
    "        Точка, в которой нжно дифференцировать функцию\n",
    "    h : float\n",
    "        Шаг\n",
    "        \n",
    "    Возвращает\n",
    "    -------\n",
    "    fder : производная f(x) в точке x с шагом h.\n",
    "    \"\"\"\n",
    "    # ... ENTER YOUR CODE HERE ..."
   ]
  },
  {
   "cell_type": "markdown",
   "metadata": {},
   "source": [
    "#### Тест I.1\n",
    "\n",
    "Проверьте ваш алгоритм на простом примере: продифференцируйте $f(x) = x^3$ в точке $x=0$. Прокомментируйте, совпадает ли результат с ожидаемым $f'(x) = 0$ при стремлении $h\\to 0$.\n",
    "\n",
    " (10% итоговой оценки)"
   ]
  },
  {
   "cell_type": "code",
   "execution_count": null,
   "metadata": {},
   "outputs": [],
   "source": [
    "x = 0\n",
    "for h in [1e-2, 1e-3, 1e-4, 1e-5]:\n",
    "    err = deriv(lambda x: x**3, x, h)\n",
    "    print(\"%5f -- %7.4g\" % (h, err))"
   ]
  },
  {
   "cell_type": "markdown",
   "metadata": {},
   "source": [
    " ... ENTER YOUR COMMENTS HERE ..."
   ]
  },
  {
   "cell_type": "markdown",
   "metadata": {},
   "source": [
    "### Тест I.2\n",
    "\n",
    "Теперь попробуйте немного более сложную функцию $f(x) = x^2 \\log{x}$. Оцените значение производной в точке $x=1$, используя \"two-point one-sided rule\" и \"three-point one-sided rule\". Для обеих схем оцените значение $h$, при котором ошибка перестанет падать.\n",
    "\n",
    "(15% итоговой оценки)"
   ]
  },
  {
   "cell_type": "code",
   "execution_count": null,
   "metadata": {
    "collapsed": true
   },
   "outputs": [],
   "source": [
    "from math import log\n",
    "\n",
    "def f(x):\n",
    "    return x**2 * log(x)\n",
    "    \n",
    "def fder(x):\n",
    "    return x * (2.*log(x) + 1)"
   ]
  },
  {
   "cell_type": "code",
   "execution_count": null,
   "metadata": {},
   "outputs": [],
   "source": [
    "# ... ENTER YOUR CODE HERE ..."
   ]
  },
  {
   "cell_type": "markdown",
   "metadata": {},
   "source": [
    "### Тест I.3 \n",
    "\n",
    "Теперь продифференцируйте $x^2 \\log(x)$ в $x=0$. Используйте \"three-point one-sided rule\". Заметьте, что для оценки функции в нуле вам необходимо доопределить ее специальным образом. Проверьте масштабы ошибки. Объясните полученные результаты.\n",
    "\n",
    "(25% итоговой оценки)"
   ]
  },
  {
   "cell_type": "code",
   "execution_count": null,
   "metadata": {},
   "outputs": [],
   "source": [
    "def f(x):\n",
    "    if x == 0:\n",
    "        # предел $x^2 log(x)$ при $x-> 0$ есть ноль, хотя log(x) не определен в x=0\n",
    "        return 0.0\n",
    "    else:\n",
    "        return x**2 * log(x)\n",
    "    \n",
    "def fder(x):\n",
    "    if x == 0:\n",
    "        return 0.0\n",
    "    else:\n",
    "        return x*(2*log(x) + 1)\n",
    "\n",
    "x = 0\n",
    "for h in [1e-2, 1e-3, 1e-4, 1e-5]:\n",
    "    err = deriv(f, x, h) - fder(x)\n",
    "    print(\"%5f -- %7.4g\" % (h, err))"
   ]
  },
  {
   "cell_type": "markdown",
   "metadata": {},
   "source": [
    "... ENTER YOUR EXPLANATION HERE ..."
   ]
  },
  {
   "cell_type": "markdown",
   "metadata": {},
   "source": [
    "# Part II. Midpoint rule "
   ]
  },
  {
   "cell_type": "markdown",
   "metadata": {},
   "source": [
    "Напишите алгоритм, вычисляющий определенный интеграл, используя \"midpoint rule\", с точностью до заданной ошибки $\\epsilon$. Оцените ошибку, сравнивая значения интеграла для $N$ и $2N$ элементарных интервалов."
   ]
  },
  {
   "cell_type": "code",
   "execution_count": null,
   "metadata": {
    "collapsed": true
   },
   "outputs": [],
   "source": [
    "def midpoint_rule(func, a, b, eps):\n",
    "    \"\"\" Вычисляет интеграл f от a до b используя \"midpoint rule\".\n",
    "    \n",
    "    Параметры\n",
    "    ----------\n",
    "    func : callable\n",
    "        Функция, которую нужно проинтегрировать\n",
    "    a : float\n",
    "        Нижний предел интегрирования\n",
    "    b : float\n",
    "        Верхний предел интегрирования\n",
    "    eps : float\n",
    "        Ожидаемая ошибка оценки\n",
    "        \n",
    "    Возвращает\n",
    "    -------\n",
    "    integral : float\n",
    "        Оценка интеграла $\\int_a^b f(x) dx$.\n",
    "    \"\"\"\n",
    "    # ... ENTER YOUR CODE HERE ..."
   ]
  },
  {
   "cell_type": "markdown",
   "metadata": {},
   "source": [
    "### Тест II.1\n",
    "\n",
    "Протестирутйте ваш алгоритм на простом интеграле, который вы можете посчитать на бумажке.\n",
    "\n",
    "Сравните скорость сходимости с ожидаемой $O(N^{-2})$ в зависимости от количества интервалов, необходимых для заданной точности $\\epsilon$.\n",
    "\n",
    "Сравните полученный результат с ответом, вычисленным руками. Попадает ли результат в интервал заданной ошибки?\n",
    "\n",
    "(20% итоговой оценки)\n"
   ]
  },
  {
   "cell_type": "markdown",
   "metadata": {},
   "source": [
    "... ENTER YOUR CODE AND COMMENTS HERE ..."
   ]
  },
  {
   "cell_type": "markdown",
   "metadata": {},
   "source": [
    "### Тест II.2\n",
    "\n",
    "Используя ваш алгоритм, посчитайте значение\n",
    "\n",
    "$$\n",
    "\\int_0^1\\! \\frac{\\sin{\\sqrt{x}}}{x}\\, dx\n",
    "$$\n",
    "\n",
    "с точностью до $\\epsilon=10^{-4}$.\n",
    "\n",
    "Заметим, что интеграл содержит интегрируемую особенность в нижнем пределе. Выполните вычисление двумя способами: для начала, посчитайте интеграл \"в лоб\", после вычтите особенность из подынтегрального выражения. Сравните количество необходимых итераций для достижения заданной точности $\\epsilon$.\n",
    "\n",
    "(30% итоговой оценки)"
   ]
  },
  {
   "cell_type": "code",
   "execution_count": null,
   "metadata": {
    "collapsed": true
   },
   "outputs": [],
   "source": [
    "# ... ENTER YOUR CODE HERE ..."
   ]
  },
  {
   "cell_type": "code",
   "execution_count": null,
   "metadata": {
    "collapsed": true
   },
   "outputs": [],
   "source": []
  }
 ],
 "metadata": {
  "kernelspec": {
   "display_name": "Python 3",
   "language": "python",
   "name": "python3"
  },
  "language_info": {
   "codemirror_mode": {
    "name": "ipython",
    "version": 3
   },
   "file_extension": ".py",
   "mimetype": "text/x-python",
   "name": "python",
   "nbconvert_exporter": "python",
   "pygments_lexer": "ipython3",
   "version": "3.7.1"
  }
 },
 "nbformat": 4,
 "nbformat_minor": 2
}
