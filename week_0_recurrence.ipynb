{
 "cells": [
  {
   "cell_type": "markdown",
   "metadata": {},
   "source": [
    "Вычислите интеграл\n",
    "\n",
    "$$\n",
    "I_n = \\int_0^1 x^n e^{1-x}\\, dx\\;.\n",
    "$$\n",
    "\n",
<<<<<<< HEAD
    "Интегрированием по частям приходим к рекуррентному соотношению\n",
=======
    "Интегрированием по частям приходим к рекурентному соотношению\n",
>>>>>>> d188d8012e1fe3d095c89cf2be0e775e92896e1b
    "\n",
    "$$\n",
    "I_n = n I_{n-1} - 1 \\;,\n",
    "$$\n",
    "\n",
    "с начальным условием\n",
    "\n",
    "$$\n",
    "I_0 = e - 1\\;.\n",
    "$$"
   ]
  },
  {
   "cell_type": "markdown",
   "metadata": {},
   "source": [
<<<<<<< HEAD
    "Такие интегралы могут быть вычислены при помощи символьной библотеки `sympy`:"
=======
    "Такие интегралы могут быть посчитаны при помощи символьной библотеки 'sympy':"
>>>>>>> d188d8012e1fe3d095c89cf2be0e775e92896e1b
   ]
  },
  {
   "cell_type": "code",
   "execution_count": null,
   "metadata": {
    "collapsed": true
   },
   "outputs": [],
   "source": [
    "import sympy\n",
    "x = sympy.Symbol('x')\n",
    "N = 25\n",
    "exact = [float(sympy.integrate(x**n * sympy.exp(1 - x), (x, 0, 1))) for n in range(N)]"
   ]
  },
  {
   "cell_type": "markdown",
   "metadata": {},
   "source": [
<<<<<<< HEAD
    "Вычислите интеграл, используя рекуррентное соотношение от $n=0$ до $n = 24$ включительно.\n",
    "\n",
    "В начале используйте рекурсию с $n=1$ вверх. Ваш алгоритм должен составлять список из 25 значений интеграла."
=======
    "Вычислите инетграл, используя рекурентное соотношение от $n=0$ до $n = 24$ вклучительно.\n",
    "\n",
    "В начале используйте рекурсию с $n=1$ вверх. Ваш алгоритм должен составлять лист из 25 значений интеграла."
>>>>>>> d188d8012e1fe3d095c89cf2be0e775e92896e1b
   ]
  },
  {
   "cell_type": "code",
   "execution_count": null,
   "metadata": {
    "collapsed": true
   },
   "outputs": [],
   "source": [
    "def upwards_recursion(n):\n",
    "    \"\"\"Вычисляет интеграл, используя рекурсию вверх.\"\"\"\n",
    "    # ENTER YOUR CODE HERE"
   ]
  },
  {
   "cell_type": "markdown",
   "metadata": {},
   "source": [
    "Сравните результаты с точным ответом. Обсудите"
   ]
  },
  {
   "cell_type": "code",
   "execution_count": null,
   "metadata": {
    "collapsed": true
   },
   "outputs": [],
   "source": [
    "values = upwards_recursion(25)\n",
    "for value, exact_value in zip(values, exact):\n",
    "    print(value, exact)\n",
    "\n",
    "from numpy.testing import assert_allclose\n",
    "assert_allclose(values, exact)"
   ]
  },
  {
   "cell_type": "code",
   "execution_count": null,
   "metadata": {
    "collapsed": true
   },
   "outputs": [],
   "source": [
    "# ENTER YOUR CONCLUSION HERE"
   ]
  },
  {
   "cell_type": "markdown",
   "metadata": {},
   "source": [
<<<<<<< HEAD
    "Далее используйте рекурсию вниз. Ваш алгоритм должен составлять список из 25 значений интеграла, с 0 до 24."
=======
    "Далее используйте рекурсию вниз. Ваш алгоритм должен составлять лист из 25 значений интеграла, с 0 до 24."
>>>>>>> d188d8012e1fe3d095c89cf2be0e775e92896e1b
   ]
  },
  {
   "cell_type": "code",
   "execution_count": null,
   "metadata": {
    "collapsed": true
   },
   "outputs": [],
   "source": [
    "def downwards_recursion(n):\n",
    "    \"\"\"Вычисляет интеграл, используя рекурсию вниз.\"\"\"\n",
    "    # ENTER YOUR CODE HERE"
   ]
  },
  {
   "cell_type": "markdown",
   "metadata": {
    "collapsed": true
   },
   "source": [
    "Также сравните ответ с точным значением. Обсудите."
   ]
  },
  {
   "cell_type": "code",
   "execution_count": 1,
   "metadata": {
    "collapsed": true
   },
   "outputs": [],
   "source": [
    "# ENTER YOUR COMPARISON HERE"
   ]
  }
 ],
 "metadata": {
  "kernelspec": {
   "display_name": "Python 3",
   "language": "python",
   "name": "python3"
  },
  "language_info": {
   "codemirror_mode": {
    "name": "ipython",
    "version": 3
   },
   "file_extension": ".py",
   "mimetype": "text/x-python",
   "name": "python",
   "nbconvert_exporter": "python",
   "pygments_lexer": "ipython3",
   "version": "3.7.1"
  }
 },
 "nbformat": 4,
 "nbformat_minor": 2
}
